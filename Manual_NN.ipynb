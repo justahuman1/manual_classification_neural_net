{
  "nbformat": 4,
  "nbformat_minor": 0,
  "metadata": {
    "colab": {
      "name": "Manual NN.ipynb",
      "version": "0.3.2",
      "provenance": [],
      "collapsed_sections": []
    },
    "kernelspec": {
      "name": "python3",
      "display_name": "Python 3"
    }
  },
  "cells": [
    {
      "cell_type": "markdown",
      "metadata": {
        "id": "29-3iK6ReN4l",
        "colab_type": "text"
      },
      "source": [
        "## Manual CNN \n",
        "\n",
        "> The purpose of this was to undertand the mechanism behind tensorflow and understand how the api works in a 'queue' like manner"
      ]
    },
    {
      "cell_type": "code",
      "metadata": {
        "id": "UrI69AWti7wH",
        "colab_type": "code",
        "colab": {}
      },
      "source": [
        "import numpy as np"
      ],
      "execution_count": 0,
      "outputs": []
    },
    {
      "cell_type": "code",
      "metadata": {
        "id": "UJcDlnH0YStk",
        "colab_type": "code",
        "colab": {}
      },
      "source": [
        "class Operation:\n",
        "  \"\"\"Input and outputnodes\"\"\"\n",
        "  def __init__(self,input_nodes=[]):\n",
        "    self.input_nodes = input_nodes\n",
        "    self.output_nodes = []\n",
        "    for node in input_nodes:\n",
        "      print(node)\n",
        "      self.output_nodes.append(self)\n",
        "    \n",
        "    _default_graph.placeholders.append(self)\n",
        "  \n",
        "  def __repr__(self):\n",
        "    return f'{self.input_nodes}'\n",
        "  def __str__(self):\n",
        "    return f'Output Nodes: {self.output_nodes}'\n",
        "  \n",
        "  def compute(self):\n",
        "    pass\n",
        "  "
      ],
      "execution_count": 0,
      "outputs": []
    },
    {
      "cell_type": "code",
      "metadata": {
        "id": "kfZ53GFAYzRv",
        "colab_type": "code",
        "colab": {}
      },
      "source": [
        "class add(Operation):\n",
        "  def __init__(self,x,y):\n",
        "    super().__init__([x,y])\n",
        "  \n",
        "  def compute(self,x_var,y_var):\n",
        "    self.inputs = [x_var,y_var]\n",
        "    return x_var + y_var\n",
        "  "
      ],
      "execution_count": 0,
      "outputs": []
    },
    {
      "cell_type": "code",
      "metadata": {
        "id": "kqBOxzY5aAOw",
        "colab_type": "code",
        "colab": {}
      },
      "source": [
        "class multiply(Operation):\n",
        "  def __init__(self,x,y):\n",
        "    super().__init__([x,y])\n",
        "    self.i = 0\n",
        "  \n",
        "  def compute(self,x_var,y_var):\n",
        "    self.inputs = [x_var,y_var]\n",
        "    return x_var * y_var\n",
        "  \n",
        "  def __repr__(self):\n",
        "    return f'Multiply Node: {self.inputs}'\n",
        "  \n",
        "  def __str__(self):\n",
        "    self.i += 1\n",
        "    return f'Multiply: {self.i}'"
      ],
      "execution_count": 0,
      "outputs": []
    },
    {
      "cell_type": "code",
      "metadata": {
        "id": "3POMaZwKaNXR",
        "colab_type": "code",
        "colab": {}
      },
      "source": [
        "class matmul(Operation):\n",
        "  def __init__(self,x,y):\n",
        "    super().__init__([x,y])\n",
        "  \n",
        "  def compute(self,x_var,y_var):\n",
        "    self.inputs = [x_var,y_var]\n",
        "    return x_var.dot(y_var) \n",
        "  "
      ],
      "execution_count": 0,
      "outputs": []
    },
    {
      "cell_type": "code",
      "metadata": {
        "id": "K1X1XOeoaWPb",
        "colab_type": "code",
        "colab": {}
      },
      "source": [
        "class Placeholder():\n",
        "  \"\"\"Empty Node Representing feature input\"\"\"\n",
        "  def __init__(self):\n",
        "    self.output_nodes = []\n",
        "    _default_graph.placeholders.append(self)\n",
        "  def __repr__(self):\n",
        "    return 'Placeholder initialized'\n",
        "    "
      ],
      "execution_count": 0,
      "outputs": []
    },
    {
      "cell_type": "code",
      "metadata": {
        "id": "Ha-XtMMjair_",
        "colab_type": "code",
        "colab": {}
      },
      "source": [
        "class Variable():\n",
        "  \"\"\"weights\"\"\"\n",
        "  def __init__(self, initial_value=None):\n",
        "    self.value = initial_value\n",
        "    self.output_nodes = []\n",
        "    \n",
        "    _default_graph.variables.append(self)\n",
        "  def __repr__(self):\n",
        "    return f'Variable stored: {self.value}'"
      ],
      "execution_count": 0,
      "outputs": []
    },
    {
      "cell_type": "code",
      "metadata": {
        "id": "xfICu_v8bP_u",
        "colab_type": "code",
        "colab": {}
      },
      "source": [
        "class Graph():\n",
        "  \"\"\"Controller and connecter\"\"\"\n",
        "  def __init__(self):\n",
        "    self.operations = []\n",
        "    self.placeholders = []\n",
        "    self.variables = []\n",
        "  def __repr__(self):\n",
        "    return 'Graph: defaulted'\n",
        "  def set_as_default(self):\n",
        "    global _default_graph\n",
        "    _default_graph = self"
      ],
      "execution_count": 0,
      "outputs": []
    },
    {
      "cell_type": "code",
      "metadata": {
        "id": "9qTPmCUkfPaQ",
        "colab_type": "code",
        "colab": {}
      },
      "source": [
        " def traverse_postorder(operation):\n",
        "    nodes_postorder = []\n",
        "    def recurse(node):\n",
        "      if isinstance(node, Operation):\n",
        "        for input_node in node.input_nodes:\n",
        "          recurse(input_node)\n",
        "      nodes_postorder.append(node)\n",
        "    \n",
        "    recurse(operation)\n",
        "    return nodes_postorder"
      ],
      "execution_count": 0,
      "outputs": []
    },
    {
      "cell_type": "code",
      "metadata": {
        "id": "bm3fA_PAhlql",
        "colab_type": "code",
        "colab": {}
      },
      "source": [
        "class Session:\n",
        "  def run(self,operation,feed_dict={}):\n",
        "    nodes_postorder = traverse_postorder(operation)\n",
        "    \n",
        "    for node in nodes_postorder:\n",
        "      if type(node) == Placeholder:\n",
        "        node.output = feed_dict[node]\n",
        "      elif type(node) == Variable:\n",
        "        node.output = node.value\n",
        "      else:\n",
        "        node.inputs = [input_node.output for input_node in node.input_nodes]\n",
        "        node.output = node.compute(*node.inputs)\n",
        "      \n",
        "      if type(node.output) == list:\n",
        "        node.output = np.array(node.output)\n",
        "    \n",
        "    return operation.output"
      ],
      "execution_count": 0,
      "outputs": []
    },
    {
      "cell_type": "code",
      "metadata": {
        "id": "Myka7B9TjAgN",
        "colab_type": "code",
        "colab": {}
      },
      "source": [
        "g = Graph()\n",
        "g.set_as_default()"
      ],
      "execution_count": 0,
      "outputs": []
    },
    {
      "cell_type": "code",
      "metadata": {
        "id": "KUxrgRv5jOCx",
        "colab_type": "code",
        "colab": {}
      },
      "source": [
        "A = Variable([[10,20],[30,40]])"
      ],
      "execution_count": 0,
      "outputs": []
    },
    {
      "cell_type": "code",
      "metadata": {
        "id": "tT9ELayLjidr",
        "colab_type": "code",
        "colab": {}
      },
      "source": [
        "b = Variable([1,1])"
      ],
      "execution_count": 0,
      "outputs": []
    },
    {
      "cell_type": "code",
      "metadata": {
        "id": "wguawKJPljD3",
        "colab_type": "code",
        "colab": {}
      },
      "source": [
        "x = Placeholder()"
      ],
      "execution_count": 0,
      "outputs": []
    },
    {
      "cell_type": "code",
      "metadata": {
        "id": "nOQINXzlllDU",
        "colab_type": "code",
        "outputId": "9142b25a-dcf4-4d32-fba9-35c37517f37b",
        "colab": {
          "base_uri": "https://localhost:8080/",
          "height": 52
        }
      },
      "source": [
        "y = multiply(A,x)"
      ],
      "execution_count": 112,
      "outputs": [
        {
          "output_type": "stream",
          "text": [
            "Variable stored: [[10, 20], [30, 40]]\n",
            "Placeholder initialized\n"
          ],
          "name": "stdout"
        }
      ]
    },
    {
      "cell_type": "code",
      "metadata": {
        "id": "5w0S4uTTlnlS",
        "colab_type": "code",
        "outputId": "7c60b188-a0ed-4029-b827-d8d378699b3a",
        "colab": {
          "base_uri": "https://localhost:8080/",
          "height": 52
        }
      },
      "source": [
        "z = add(y,b)"
      ],
      "execution_count": 113,
      "outputs": [
        {
          "output_type": "stream",
          "text": [
            "Multiply: 1\n",
            "Variable stored: [1, 1]\n"
          ],
          "name": "stdout"
        }
      ]
    },
    {
      "cell_type": "code",
      "metadata": {
        "id": "KvrhuneGlptx",
        "colab_type": "code",
        "colab": {}
      },
      "source": [
        "sess = Session()"
      ],
      "execution_count": 0,
      "outputs": []
    },
    {
      "cell_type": "code",
      "metadata": {
        "id": "b8mWe7Lmlrey",
        "colab_type": "code",
        "outputId": "f8075497-914c-43fc-a6ae-69e234d28f7d",
        "colab": {
          "base_uri": "https://localhost:8080/",
          "height": 52
        }
      },
      "source": [
        "sess.run(operation=z,feed_dict={x:10})"
      ],
      "execution_count": 115,
      "outputs": [
        {
          "output_type": "execute_result",
          "data": {
            "text/plain": [
              "array([[101, 201],\n",
              "       [301, 401]])"
            ]
          },
          "metadata": {
            "tags": []
          },
          "execution_count": 115
        }
      ]
    },
    {
      "cell_type": "markdown",
      "metadata": {
        "id": "K9PUV9ZNmMgr",
        "colab_type": "text"
      },
      "source": [
        "## Classification\n",
        "\n",
        "## Activation Function"
      ]
    },
    {
      "cell_type": "code",
      "metadata": {
        "id": "GC3RNS_hq8bG",
        "colab_type": "code",
        "colab": {}
      },
      "source": [
        "import matplotlib.pyplot as plt\n",
        "%matplotlib inline"
      ],
      "execution_count": 0,
      "outputs": []
    },
    {
      "cell_type": "code",
      "metadata": {
        "id": "RU2eQ8B9rAEp",
        "colab_type": "code",
        "colab": {}
      },
      "source": [
        "def sigmoid(z):\n",
        "  return 1/(1+np.exp(-z))"
      ],
      "execution_count": 0,
      "outputs": []
    },
    {
      "cell_type": "code",
      "metadata": {
        "id": "ClbufUl8rF7a",
        "colab_type": "code",
        "colab": {}
      },
      "source": [
        "sample_z = np.linspace(-10,10,100)\n",
        "sample_a = sigmoid(sample_z)"
      ],
      "execution_count": 0,
      "outputs": []
    },
    {
      "cell_type": "code",
      "metadata": {
        "id": "kyQDKKXqrQSu",
        "colab_type": "code",
        "outputId": "121fa143-6ec8-4cbc-f8ea-b274f2cbfe1c",
        "colab": {
          "base_uri": "https://localhost:8080/",
          "height": 286
        }
      },
      "source": [
        "plt.plot(sample_z,sample_a)"
      ],
      "execution_count": 119,
      "outputs": [
        {
          "output_type": "execute_result",
          "data": {
            "text/plain": [
              "[<matplotlib.lines.Line2D at 0x7f7e2e422240>]"
            ]
          },
          "metadata": {
            "tags": []
          },
          "execution_count": 119
        },
        {
          "output_type": "display_data",
          "data": {
            "image/png": "[encoded data removed]",
            "text/plain": [
              "<Figure size 432x288 with 1 Axes>"
            ]
          },
          "metadata": {
            "tags": []
          }
        }
      ]
    },
    {
      "cell_type": "code",
      "metadata": {
        "id": "Jg2cyEsZrVlU",
        "colab_type": "code",
        "colab": {}
      },
      "source": [
        "class Sigmoid(Operation):\n",
        "  def __init__(self,z):\n",
        "    super().__init__([z])\n",
        "  def compute(self,z_val):\n",
        "    return 1/(1+np.exp(-z_val))"
      ],
      "execution_count": 0,
      "outputs": []
    },
    {
      "cell_type": "code",
      "metadata": {
        "id": "oIi8xr5Hrob2",
        "colab_type": "code",
        "colab": {}
      },
      "source": [
        "from sklearn.datasets import make_blobs"
      ],
      "execution_count": 0,
      "outputs": []
    },
    {
      "cell_type": "code",
      "metadata": {
        "id": "NP6kUXq-ruMS",
        "colab_type": "code",
        "colab": {}
      },
      "source": [
        "data = make_blobs(n_samples=50,n_features=2,centers=2,random_state=75)"
      ],
      "execution_count": 0,
      "outputs": []
    },
    {
      "cell_type": "code",
      "metadata": {
        "id": "5IhltEUcr0P6",
        "colab_type": "code",
        "colab": {}
      },
      "source": [
        "features = data[0]\n",
        "labels = data[1]"
      ],
      "execution_count": 0,
      "outputs": []
    },
    {
      "cell_type": "code",
      "metadata": {
        "id": "s9HwK-HYr0j8",
        "colab_type": "code",
        "outputId": "7a1e873c-52ee-427e-fc8c-e0097d0a08ab",
        "colab": {
          "base_uri": "https://localhost:8080/",
          "height": 286
        }
      },
      "source": [
        "plt.scatter(features[:,0],features[:,1],c=labels,cmap='coolwarm')"
      ],
      "execution_count": 124,
      "outputs": [
        {
          "output_type": "execute_result",
          "data": {
            "text/plain": [
              "<matplotlib.collections.PathCollection at 0x7f7e21d63cc0>"
            ]
          },
          "metadata": {
            "tags": []
          },
          "execution_count": 124
        },
        {
          "output_type": "display_data",
          "data": {
            "image/png": "[encoded data removed]",
            "text/plain": [
              "<Figure size 432x288 with 1 Axes>"
            ]
          },
          "metadata": {
            "tags": []
          }
        }
      ]
    },
    {
      "cell_type": "code",
      "metadata": {
        "id": "XqX6jAsDsCha",
        "colab_type": "code",
        "outputId": "d9a6cbec-50d5-4145-e7c9-667d1b839dc8",
        "colab": {
          "base_uri": "https://localhost:8080/",
          "height": 286
        }
      },
      "source": [
        "x = np.linspace(0,11,10)\n",
        "y = -x\n",
        "plt.scatter(features[:,0],features[:,1],c=labels,cmap='coolwarm')\n",
        "plt.plot(x,y)"
      ],
      "execution_count": 125,
      "outputs": [
        {
          "output_type": "execute_result",
          "data": {
            "text/plain": [
              "[<matplotlib.lines.Line2D at 0x7f7e218ebc18>]"
            ]
          },
          "metadata": {
            "tags": []
          },
          "execution_count": 125
        },
        {
          "output_type": "display_data",
          "data": {
            "image/png": "[encoded data removed]",
            "text/plain": [
              "<Figure size 432x288 with 1 Axes>"
            ]
          },
          "metadata": {
            "tags": []
          }
        }
      ]
    },
    {
      "cell_type": "markdown",
      "metadata": {
        "id": "-4hYh0uEsaJq",
        "colab_type": "text"
      },
      "source": [
        "## Solution: Determine a matrix to represent that line^\n",
        "\n",
        "> (1,1)*f-5 = 0"
      ]
    },
    {
      "cell_type": "code",
      "metadata": {
        "id": "KguUak8BtBS0",
        "colab_type": "code",
        "colab": {}
      },
      "source": [
        "g = Graph()\n",
        "g.set_as_default()"
      ],
      "execution_count": 0,
      "outputs": []
    },
    {
      "cell_type": "code",
      "metadata": {
        "id": "v_UtDZYetYUB",
        "colab_type": "code",
        "colab": {}
      },
      "source": [
        "x = Placeholder()"
      ],
      "execution_count": 0,
      "outputs": []
    },
    {
      "cell_type": "code",
      "metadata": {
        "id": "ca2fAs5BtZ93",
        "colab_type": "code",
        "colab": {}
      },
      "source": [
        "w = Variable([1,1])"
      ],
      "execution_count": 0,
      "outputs": []
    },
    {
      "cell_type": "code",
      "metadata": {
        "id": "ktRwIRSEtct-",
        "colab_type": "code",
        "colab": {}
      },
      "source": [
        "b = Variable(-5)"
      ],
      "execution_count": 0,
      "outputs": []
    },
    {
      "cell_type": "code",
      "metadata": {
        "id": "CJhsA8c0tm9c",
        "colab_type": "code",
        "outputId": "164d613a-f8fd-490d-d6c3-9d443fd781ab",
        "colab": {
          "base_uri": "https://localhost:8080/",
          "height": 87
        }
      },
      "source": [
        "z = add(matmul(w,x),b)"
      ],
      "execution_count": 130,
      "outputs": [
        {
          "output_type": "stream",
          "text": [
            "Variable stored: [1, 1]\n",
            "Placeholder initialized\n",
            "Output Nodes: [[Variable stored: [1, 1], Placeholder initialized], [Variable stored: [1, 1], Placeholder initialized]]\n",
            "Variable stored: -5\n"
          ],
          "name": "stdout"
        }
      ]
    },
    {
      "cell_type": "code",
      "metadata": {
        "id": "TQfvMckWto-o",
        "colab_type": "code",
        "outputId": "98411733-929d-4216-967f-ee227ab229ea",
        "colab": {
          "base_uri": "https://localhost:8080/",
          "height": 34
        }
      },
      "source": [
        "a = Sigmoid(z)"
      ],
      "execution_count": 131,
      "outputs": [
        {
          "output_type": "stream",
          "text": [
            "Output Nodes: [[[Variable stored: [1, 1], Placeholder initialized], Variable stored: -5], [[Variable stored: [1, 1], Placeholder initialized], Variable stored: -5]]\n"
          ],
          "name": "stdout"
        }
      ]
    },
    {
      "cell_type": "code",
      "metadata": {
        "id": "mmtbeDevtsBQ",
        "colab_type": "code",
        "colab": {}
      },
      "source": [
        "sess = Session()"
      ],
      "execution_count": 0,
      "outputs": []
    },
    {
      "cell_type": "code",
      "metadata": {
        "id": "j7e-_m9uttdz",
        "colab_type": "code",
        "outputId": "231bfa29-c86c-4715-a704-004671a95ff2",
        "colab": {
          "base_uri": "https://localhost:8080/",
          "height": 34
        }
      },
      "source": [
        "sess.run(operation=a,feed_dict={x:[8,10]})"
      ],
      "execution_count": 133,
      "outputs": [
        {
          "output_type": "execute_result",
          "data": {
            "text/plain": [
              "0.999997739675702"
            ]
          },
          "metadata": {
            "tags": []
          },
          "execution_count": 133
        }
      ]
    },
    {
      "cell_type": "code",
      "metadata": {
        "id": "15SVS2yXtzia",
        "colab_type": "code",
        "outputId": "bff81adb-04a9-4d41-964e-43cf3ee8608d",
        "colab": {
          "base_uri": "https://localhost:8080/",
          "height": 34
        }
      },
      "source": [
        "sess.run(operation=a,feed_dict={x:[2,-10]})"
      ],
      "execution_count": 134,
      "outputs": [
        {
          "output_type": "execute_result",
          "data": {
            "text/plain": [
              "2.2603242979035746e-06"
            ]
          },
          "metadata": {
            "tags": []
          },
          "execution_count": 134
        }
      ]
    },
    {
      "cell_type": "markdown",
      "metadata": {
        "id": "PyOXjysdx7Yj",
        "colab_type": "text"
      },
      "source": [
        "## Conclusion\n",
        "\n",
        "> Our tensors live in a list, so the operation time would be much larger in comparison to Tensorflow's hashmap. All in all, we can now understand the threading behind the scenes of tf!"
      ]
    }
  ]
}