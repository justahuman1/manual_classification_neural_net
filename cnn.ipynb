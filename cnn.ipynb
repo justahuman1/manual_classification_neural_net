{
  "nbformat": 4,
  "nbformat_minor": 0,
  "metadata": {
    "colab": {
      "name": "Manual NN.ipynb",
      "version": "0.3.2",
      "provenance": [],
      "collapsed_sections": []
    },
    "kernelspec": {
      "name": "python3",
      "display_name": "Python 3"
    }
  },
  "cells": [
    {
      "cell_type": "markdown",
      "metadata": {
        "id": "29-3iK6ReN4l",
        "colab_type": "text"
      },
      "source": [
        "## Manual CNN \n",
        "\n",
        "> The purpose of this was to undertand the mechanism behind tensorflow and understand how the api works in a queue like manner"
      ]
    },
    {
      "cell_type": "code",
      "metadata": {
        "id": "UrI69AWti7wH",
        "colab_type": "code",
        "colab": {}
      },
      "source": [
        "import numpy as np"
      ],
      "execution_count": 0,
      "outputs": []
    },
    {
      "cell_type": "code",
      "metadata": {
        "id": "UJcDlnH0YStk",
        "colab_type": "code",
        "colab": {}
      },
      "source": [
        "class Operation:\n",
        "  \"\"\"Input and outputnodes\"\"\"\n",
        "  def __init__(self,input_nodes=[]):\n",
        "    self.input_nodes = input_nodes\n",
        "    self.output_nodes = []\n",
        "    for node in input_nodes:\n",
        "      print(node)\n",
        "      self.output_nodes.append(self)\n",
        "    \n",
        "    _default_graph.placeholders.append(self)\n",
        "  \n",
        "  def __repr__(self):\n",
        "    return f'{self.input_nodes}'\n",
        "  def __str__(self):\n",
        "    return f'Output Nodes: {self.output_nodes}'\n",
        "  \n",
        "  def compute(self):\n",
        "    pass\n",
        "  "
      ],
      "execution_count": 0,
      "outputs": []
    },
    {
      "cell_type": "code",
      "metadata": {
        "id": "kfZ53GFAYzRv",
        "colab_type": "code",
        "colab": {}
      },
      "source": [
        "class add(Operation):\n",
        "  def __init__(self,x,y):\n",
        "    super().__init__([x,y])\n",
        "  \n",
        "  def compute(self,x_var,y_var):\n",
        "    self.inputs = [x_var,y_var]\n",
        "    return x_var + y_var\n",
        "  "
      ],
      "execution_count": 0,
      "outputs": []
    },
    {
      "cell_type": "code",
      "metadata": {
        "id": "kqBOxzY5aAOw",
        "colab_type": "code",
        "colab": {}
      },
      "source": [
        "class multiply(Operation):\n",
        "  def __init__(self,x,y):\n",
        "    super().__init__([x,y])\n",
        "    self.i = 0\n",
        "  \n",
        "  def compute(self,x_var,y_var):\n",
        "    self.inputs = [x_var,y_var]\n",
        "    return x_var * y_var\n",
        "  \n",
        "  def __repr__(self):\n",
        "    return f'Multiply Node: {self.inputs}'\n",
        "  \n",
        "  def __str__(self):\n",
        "    self.i += 1\n",
        "    return f'Multiply: {self.i}'"
      ],
      "execution_count": 0,
      "outputs": []
    },
    {
      "cell_type": "code",
      "metadata": {
        "id": "3POMaZwKaNXR",
        "colab_type": "code",
        "colab": {}
      },
      "source": [
        "class matmul(Operation):\n",
        "  def __init__(self,x,y):\n",
        "    super().__init__([x,y])\n",
        "  \n",
        "  def compute(self,x_var,y_var):\n",
        "    self.inputs = [x_var,y_var]\n",
        "    return x_var.dot(y_var) \n",
        "  "
      ],
      "execution_count": 0,
      "outputs": []
    },
    {
      "cell_type": "code",
      "metadata": {
        "id": "K1X1XOeoaWPb",
        "colab_type": "code",
        "colab": {}
      },
      "source": [
        "class Placeholder():\n",
        "  \"\"\"Empty Node Representing feature input\"\"\"\n",
        "  def __init__(self):\n",
        "    self.output_nodes = []\n",
        "    _default_graph.placeholders.append(self)\n",
        "  def __repr__(self):\n",
        "    return 'Placeholder initialized'\n",
        "    "
      ],
      "execution_count": 0,
      "outputs": []
    },
    {
      "cell_type": "code",
      "metadata": {
        "id": "Ha-XtMMjair_",
        "colab_type": "code",
        "colab": {}
      },
      "source": [
        "class Variable():\n",
        "  \"\"\"weights\"\"\"\n",
        "  def __init__(self, initial_value=None):\n",
        "    self.value = initial_value\n",
        "    self.output_nodes = []\n",
        "    \n",
        "    _default_graph.variables.append(self)\n",
        "  def __repr__(self):\n",
        "    return f'Variable stored: {self.value}'"
      ],
      "execution_count": 0,
      "outputs": []
    },
    {
      "cell_type": "code",
      "metadata": {
        "id": "xfICu_v8bP_u",
        "colab_type": "code",
        "colab": {}
      },
      "source": [
        "class Graph():\n",
        "  \"\"\"Controller and connecter\"\"\"\n",
        "  def __init__(self):\n",
        "    self.operations = []\n",
        "    self.placeholders = []\n",
        "    self.variables = []\n",
        "  def __repr__(self):\n",
        "    return 'Graph: defaulted'\n",
        "  def set_as_default(self):\n",
        "    global _default_graph\n",
        "    _default_graph = self"
      ],
      "execution_count": 0,
      "outputs": []
    },
    {
      "cell_type": "code",
      "metadata": {
        "id": "9qTPmCUkfPaQ",
        "colab_type": "code",
        "colab": {}
      },
      "source": [
        " def traverse_postorder(operation):\n",
        "    nodes_postorder = []\n",
        "    def recurse(node):\n",
        "      if isinstance(node, Operation):\n",
        "        for input_node in node.input_nodes:\n",
        "          recurse(input_node)\n",
        "      nodes_postorder.append(node)\n",
        "    \n",
        "    recurse(operation)\n",
        "    return nodes_postorder"
      ],
      "execution_count": 0,
      "outputs": []
    },
    {
      "cell_type": "code",
      "metadata": {
        "id": "bm3fA_PAhlql",
        "colab_type": "code",
        "colab": {}
      },
      "source": [
        "class Session:\n",
        "  def run(self,operation,feed_dict={}):\n",
        "    nodes_postorder = traverse_postorder(operation)\n",
        "    \n",
        "    for node in nodes_postorder:\n",
        "      if type(node) == Placeholder:\n",
        "        node.output = feed_dict[node]\n",
        "      elif type(node) == Variable:\n",
        "        node.output = node.value\n",
        "      else:\n",
        "        node.inputs = [input_node.output for input_node in node.input_nodes]\n",
        "        node.output = node.compute(*node.inputs)\n",
        "      \n",
        "      if type(node.output) == list:\n",
        "        node.output = np.array(node.output)\n",
        "    \n",
        "    return operation.output"
      ],
      "execution_count": 0,
      "outputs": []
    },
    {
      "cell_type": "code",
      "metadata": {
        "id": "Myka7B9TjAgN",
        "colab_type": "code",
        "colab": {}
      },
      "source": [
        "g = Graph()\n",
        "g.set_as_default()"
      ],
      "execution_count": 0,
      "outputs": []
    },
    {
      "cell_type": "code",
      "metadata": {
        "id": "KUxrgRv5jOCx",
        "colab_type": "code",
        "colab": {}
      },
      "source": [
        "A = Variable([[10,20],[30,40]])"
      ],
      "execution_count": 0,
      "outputs": []
    },
    {
      "cell_type": "code",
      "metadata": {
        "id": "tT9ELayLjidr",
        "colab_type": "code",
        "colab": {}
      },
      "source": [
        "b = Variable([1,1])"
      ],
      "execution_count": 0,
      "outputs": []
    },
    {
      "cell_type": "code",
      "metadata": {
        "id": "wguawKJPljD3",
        "colab_type": "code",
        "colab": {}
      },
      "source": [
        "x = Placeholder()"
      ],
      "execution_count": 0,
      "outputs": []
    },
    {
      "cell_type": "code",
      "metadata": {
        "id": "nOQINXzlllDU",
        "colab_type": "code",
        "outputId": "c1974f45-bf18-4aa8-b43e-578240acfcd8",
        "colab": {
          "base_uri": "https://localhost:8080/",
          "height": 54
        }
      },
      "source": [
        "y = multiply(A,x)"
      ],
      "execution_count": 16,
      "outputs": [
        {
          "output_type": "stream",
          "text": [
            "Variable stored: [[10, 20], [30, 40]]\n",
            "Placeholder initialized\n"
          ],
          "name": "stdout"
        }
      ]
    },
    {
      "cell_type": "code",
      "metadata": {
        "id": "5w0S4uTTlnlS",
        "colab_type": "code",
        "outputId": "78e0e0fc-d738-40ee-d5e7-3d31b85f35a1",
        "colab": {
          "base_uri": "https://localhost:8080/",
          "height": 54
        }
      },
      "source": [
        "z = add(y,b)"
      ],
      "execution_count": 17,
      "outputs": [
        {
          "output_type": "stream",
          "text": [
            "Multiply: 1\n",
            "Variable stored: [1, 1]\n"
          ],
          "name": "stdout"
        }
      ]
    },
    {
      "cell_type": "code",
      "metadata": {
        "id": "KvrhuneGlptx",
        "colab_type": "code",
        "colab": {}
      },
      "source": [
        "sess = Session()"
      ],
      "execution_count": 0,
      "outputs": []
    },
    {
      "cell_type": "code",
      "metadata": {
        "id": "b8mWe7Lmlrey",
        "colab_type": "code",
        "outputId": "c3e3ecaa-8365-43f4-860a-358061d21c3d",
        "colab": {
          "base_uri": "https://localhost:8080/",
          "height": 54
        }
      },
      "source": [
        "sess.run(operation=z,feed_dict={x:10})"
      ],
      "execution_count": 19,
      "outputs": [
        {
          "output_type": "execute_result",
          "data": {
            "text/plain": [
              "array([[101, 201],\n",
              "       [301, 401]])"
            ]
          },
          "metadata": {
            "tags": []
          },
          "execution_count": 19
        }
      ]
    },
    {
      "cell_type": "markdown",
      "metadata": {
        "id": "K9PUV9ZNmMgr",
        "colab_type": "text"
      },
      "source": [
        "## Classification\n",
        "\n",
        "## Activation Function"
      ]
    },
    {
      "cell_type": "code",
      "metadata": {
        "id": "GC3RNS_hq8bG",
        "colab_type": "code",
        "colab": {}
      },
      "source": [
        "import matplotlib.pyplot as plt\n",
        "%matplotlib inline"
      ],
      "execution_count": 0,
      "outputs": []
    },
    {
      "cell_type": "code",
      "metadata": {
        "id": "RU2eQ8B9rAEp",
        "colab_type": "code",
        "colab": {}
      },
      "source": [
        "def sigmoid(z):\n",
        "  return 1/(1+np.exp(-z))"
      ],
      "execution_count": 0,
      "outputs": []
    },
    {
      "cell_type": "code",
      "metadata": {
        "id": "ClbufUl8rF7a",
        "colab_type": "code",
        "colab": {}
      },
      "source": [
        "sample_z = np.linspace(-10,10,100)\n",
        "sample_a = sigmoid(sample_z)"
      ],
      "execution_count": 0,
      "outputs": []
    },
    {
      "cell_type": "code",
      "metadata": {
        "id": "kyQDKKXqrQSu",
        "colab_type": "code",
        "outputId": "5e7d929d-5efb-49c4-a6e1-aae71953f3e9",
        "colab": {
          "base_uri": "https://localhost:8080/",
          "height": 287
        }
      },
      "source": [
        "plt.plot(sample_z,sample_a)"
      ],
      "execution_count": 25,
      "outputs": [
        {
          "output_type": "execute_result",
          "data": {
            "text/plain": [
              "[<matplotlib.lines.Line2D at 0x7f9df8cc60f0>]"
            ]
          },
          "metadata": {
            "tags": []
          },
          "execution_count": 25
        },
        {
          "output_type": "display_data",
          "data": {
            "image/png": "[encoded data removed]",
            "text/plain": [
              "<Figure size 432x288 with 1 Axes>"
            ]
          },
          "metadata": {
            "tags": []
          }
        }
      ]
    },
    {
      "cell_type": "code",
      "metadata": {
        "id": "Jg2cyEsZrVlU",
        "colab_type": "code",
        "colab": {}
      },
      "source": [
        "class Sigmoid(Operation):\n",
        "  def __init__(self,z):\n",
        "    super().__init__([z])\n",
        "  def compute(self,z_val):\n",
        "    return 1/(1+np.exp(-z_val))"
      ],
      "execution_count": 0,
      "outputs": []
    },
    {
      "cell_type": "code",
      "metadata": {
        "id": "oIi8xr5Hrob2",
        "colab_type": "code",
        "colab": {}
      },
      "source": [
        "from sklearn.datasets import make_blobs"
      ],
      "execution_count": 0,
      "outputs": []
    },
    {
      "cell_type": "code",
      "metadata": {
        "id": "NP6kUXq-ruMS",
        "colab_type": "code",
        "colab": {}
      },
      "source": [
        "data = make_blobs(n_samples=50,n_features=2,centers=2,random_state=75)"
      ],
      "execution_count": 0,
      "outputs": []
    },
    {
      "cell_type": "code",
      "metadata": {
        "id": "5IhltEUcr0P6",
        "colab_type": "code",
        "colab": {}
      },
      "source": [
        "features = data[0]\n",
        "labels = data[1]"
      ],
      "execution_count": 0,
      "outputs": []
    },
    {
      "cell_type": "code",
      "metadata": {
        "id": "s9HwK-HYr0j8",
        "colab_type": "code",
        "outputId": "0369dcab-fc5e-4715-ba3c-4bfddad28b84",
        "colab": {
          "base_uri": "https://localhost:8080/",
          "height": 287
        }
      },
      "source": [
        "plt.scatter(features[:,0],features[:,1],c=labels,cmap='coolwarm')"
      ],
      "execution_count": 178,
      "outputs": [
        {
          "output_type": "execute_result",
          "data": {
            "text/plain": [
              "<matplotlib.collections.PathCollection at 0x7f9de95d8748>"
            ]
          },
          "metadata": {
            "tags": []
          },
          "execution_count": 178
        },
        {
          "output_type": "display_data",
          "data": {
            "image/png": "[encoded data removed]",
            "text/plain": [
              "<Figure size 432x288 with 1 Axes>"
            ]
          },
          "metadata": {
            "tags": []
          }
        }
      ]
    },
    {
      "cell_type": "code",
      "metadata": {
        "id": "XqX6jAsDsCha",
        "colab_type": "code",
        "outputId": "2822d998-e8df-4981-910e-4c7c5682b761",
        "colab": {
          "base_uri": "https://localhost:8080/",
          "height": 287
        }
      },
      "source": [
        "X = np.linspace(0,11,10)\n",
        "y = -x\n",
        "plt.scatter(features[:,0],features[:,1],c=labels,cmap='coolwarm')\n",
        "plt.plot(X,y)"
      ],
      "execution_count": 180,
      "outputs": [
        {
          "output_type": "execute_result",
          "data": {
            "text/plain": [
              "[<matplotlib.lines.Line2D at 0x7f9de9583278>]"
            ]
          },
          "metadata": {
            "tags": []
          },
          "execution_count": 180
        },
        {
          "output_type": "display_data",
          "data": {
            "image/png": "[encoded data removed]",
            "text/plain": [
              "<Figure size 432x288 with 1 Axes>"
            ]
          },
          "metadata": {
            "tags": []
          }
        }
      ]
    },
    {
      "cell_type": "markdown",
      "metadata": {
        "id": "-4hYh0uEsaJq",
        "colab_type": "text"
      },
      "source": [
        "## Solution: Determine a matrix to represent that line^\n",
        "\n",
        "> via gradient descent"
      ]
    },
    {
      "cell_type": "markdown",
      "metadata": {
        "id": "7bO_qROVAA_c",
        "colab_type": "text"
      },
      "source": [
        "\n",
        "<b>Cost Function</b>\n",
        "\\begin{equation}\n",
        "J(\\theta) = 1/2m \\sum_{i=1}^{m} (h(\\theta)^{(i)} - y^{(i)})^2 \n",
        "\\end{equation}\n"
      ]
    },
    {
      "cell_type": "code",
      "metadata": {
        "id": "3-ZJipGAAmrF",
        "colab_type": "code",
        "colab": {}
      },
      "source": [
        "def cal_cost(theta,X,y):\n",
        "    m = len(y)\n",
        "    predictions = X.dot(theta)\n",
        "    cost = (1/2*m) * np.sum(np.square(predictions-y))\n",
        "    return cost"
      ],
      "execution_count": 0,
      "outputs": []
    },
    {
      "cell_type": "code",
      "metadata": {
        "id": "aaUDwlGS_hB8",
        "colab_type": "code",
        "colab": {}
      },
      "source": [
        "def gradient_descent(X,y,theta,learning_rate=0.1,iterations=100):\n",
        "    m = len(y)\n",
        "    cost_history = np.zeros(iterations)\n",
        "    theta_history = np.zeros((iterations,10))\n",
        "    for it in range(iterations):\n",
        "        prediction = np.dot(X,theta)\n",
        "        theta = theta -(1/m)*learning_rate*( X.T.dot((prediction - y)))\n",
        "        theta_history[it,:] =theta.T\n",
        "        cost_history[it]  = cal_cost(theta,X,y)\n",
        "        \n",
        "    return theta, cost_history, theta_history\n",
        "   "
      ],
      "execution_count": 0,
      "outputs": []
    },
    {
      "cell_type": "code",
      "metadata": {
        "id": "Xa6nfKl8ClWJ",
        "colab_type": "code",
        "colab": {}
      },
      "source": [
        "init_theta = np.random.randn(len(X),1)"
      ],
      "execution_count": 0,
      "outputs": []
    },
    {
      "cell_type": "code",
      "metadata": {
        "id": "IJylDSM9CHkI",
        "colab_type": "code",
        "colab": {
          "base_uri": "https://localhost:8080/",
          "height": 35
        },
        "outputId": "cfababc1-a189-4f88-c80f-86dee4b01e91"
      },
      "source": [
        "def try_g():\n",
        "  theta, cost_history, theta_history = gradient_descent(\n",
        "      X=X, y=y,theta=init_theta\n",
        "  )\n",
        "  print(f'''Optimal Theta: {theta[0,:]}''')\n",
        "  return theta\n",
        "\n",
        "t = try_g()"
      ],
      "execution_count": 223,
      "outputs": [
        {
          "output_type": "stream",
          "text": [
            "Optimal Theta: [2.82962438e+146]\n"
          ],
          "name": "stdout"
        }
      ]
    },
    {
      "cell_type": "code",
      "metadata": {
        "id": "M-z4_TpdJZlH",
        "colab_type": "code",
        "colab": {}
      },
      "source": [
        "import pandas as pd"
      ],
      "execution_count": 0,
      "outputs": []
    },
    {
      "cell_type": "code",
      "metadata": {
        "id": "OI7JfR8XJH6m",
        "colab_type": "code",
        "colab": {
          "base_uri": "https://localhost:8080/",
          "height": 138
        },
        "outputId": "c66f3056-5013-45b2-c7c2-8c8ed88d6647"
      },
      "source": [
        "res_df = (pd.DataFrame(\n",
        "    [X.reshape(10,),\n",
        "     y.reshape(10,), \n",
        "     t.reshape(10,)]\n",
        ").transpose())\n",
        "res_df.columns = ['x','y','theta']\n",
        "res_df.head(3)"
      ],
      "execution_count": 241,
      "outputs": [
        {
          "output_type": "execute_result",
          "data": {
            "text/html": [
              "<div>\n",
              "<style scoped>\n",
              "    .dataframe tbody tr th:only-of-type {\n",
              "        vertical-align: middle;\n",
              "    }\n",
              "\n",
              "    .dataframe tbody tr th {\n",
              "        vertical-align: top;\n",
              "    }\n",
              "\n",
              "    .dataframe thead th {\n",
              "        text-align: right;\n",
              "    }\n",
              "</style>\n",
              "<table border=\"1\" class=\"dataframe\">\n",
              "  <thead>\n",
              "    <tr style=\"text-align: right;\">\n",
              "      <th></th>\n",
              "      <th>x</th>\n",
              "      <th>y</th>\n",
              "      <th>theta</th>\n",
              "      <th>pred_y</th>\n",
              "    </tr>\n",
              "  </thead>\n",
              "  <tbody>\n",
              "    <tr>\n",
              "      <th>0</th>\n",
              "      <td>0.000000</td>\n",
              "      <td>-0.000000</td>\n",
              "      <td>2.829624e+146</td>\n",
              "      <td>0.000000e+00</td>\n",
              "    </tr>\n",
              "    <tr>\n",
              "      <th>1</th>\n",
              "      <td>1.222222</td>\n",
              "      <td>-1.222222</td>\n",
              "      <td>2.829624e+146</td>\n",
              "      <td>3.458430e+146</td>\n",
              "    </tr>\n",
              "    <tr>\n",
              "      <th>2</th>\n",
              "      <td>2.444444</td>\n",
              "      <td>-2.444444</td>\n",
              "      <td>2.829624e+146</td>\n",
              "      <td>6.916860e+146</td>\n",
              "    </tr>\n",
              "  </tbody>\n",
              "</table>\n",
              "</div>"
            ],
            "text/plain": [
              "          x         y          theta         pred_y\n",
              "0  0.000000 -0.000000  2.829624e+146   0.000000e+00\n",
              "1  1.222222 -1.222222  2.829624e+146  3.458430e+146\n",
              "2  2.444444 -2.444444  2.829624e+146  6.916860e+146"
            ]
          },
          "metadata": {
            "tags": []
          },
          "execution_count": 241
        }
      ]
    },
    {
      "cell_type": "code",
      "metadata": {
        "id": "DTdyRcyJSAlw",
        "colab_type": "code",
        "colab": {
          "base_uri": "https://localhost:8080/",
          "height": 312
        },
        "outputId": "980c4a35-d23b-42bd-ec64-38d6f1a66d2d"
      },
      "source": [
        "res_df['pred_y'] = res_df['theta']*res_df['x']\n",
        "res_df.plot(x='x',y='pred_y')"
      ],
      "execution_count": 227,
      "outputs": [
        {
          "output_type": "execute_result",
          "data": {
            "text/plain": [
              "<matplotlib.axes._subplots.AxesSubplot at 0x7f9de802b198>"
            ]
          },
          "metadata": {
            "tags": []
          },
          "execution_count": 227
        },
        {
          "output_type": "display_data",
          "data": {
            "image/png": "[encoded data removed]",
            "text/plain": [
              "<Figure size 432x288 with 1 Axes>"
            ]
          },
          "metadata": {
            "tags": []
          }
        }
      ]
    },
    {
      "cell_type": "code",
      "metadata": {
        "id": "KguUak8BtBS0",
        "colab_type": "code",
        "colab": {}
      },
      "source": [
        "g = Graph()\n",
        "g.set_as_default()"
      ],
      "execution_count": 0,
      "outputs": []
    },
    {
      "cell_type": "code",
      "metadata": {
        "id": "v_UtDZYetYUB",
        "colab_type": "code",
        "colab": {}
      },
      "source": [
        "x = Placeholder()"
      ],
      "execution_count": 0,
      "outputs": []
    },
    {
      "cell_type": "code",
      "metadata": {
        "id": "ca2fAs5BtZ93",
        "colab_type": "code",
        "colab": {}
      },
      "source": [
        "w = Variable([1,1])"
      ],
      "execution_count": 0,
      "outputs": []
    },
    {
      "cell_type": "code",
      "metadata": {
        "id": "ktRwIRSEtct-",
        "colab_type": "code",
        "colab": {}
      },
      "source": [
        "b = Variable(-5)"
      ],
      "execution_count": 0,
      "outputs": []
    },
    {
      "cell_type": "code",
      "metadata": {
        "id": "CJhsA8c0tm9c",
        "colab_type": "code",
        "outputId": "206e1fbb-68c7-4672-f23a-777232cc1d9c",
        "colab": {
          "base_uri": "https://localhost:8080/",
          "height": 110
        }
      },
      "source": [
        "z = add(matmul(w,x),b)"
      ],
      "execution_count": 246,
      "outputs": [
        {
          "output_type": "stream",
          "text": [
            "Variable stored: [1, 1]\n",
            "Placeholder initialized\n",
            "Output Nodes: [[Variable stored: [1, 1], Placeholder initialized], [Variable stored: [1, 1], Placeholder initialized]]\n",
            "Variable stored: -5\n"
          ],
          "name": "stdout"
        }
      ]
    },
    {
      "cell_type": "code",
      "metadata": {
        "id": "TQfvMckWto-o",
        "colab_type": "code",
        "outputId": "32ab0ece-c908-45df-e575-eaa0c2b1834b",
        "colab": {
          "base_uri": "https://localhost:8080/",
          "height": 55
        }
      },
      "source": [
        "a = Sigmoid(z)"
      ],
      "execution_count": 247,
      "outputs": [
        {
          "output_type": "stream",
          "text": [
            "Output Nodes: [[[Variable stored: [1, 1], Placeholder initialized], Variable stored: -5], [[Variable stored: [1, 1], Placeholder initialized], Variable stored: -5]]\n"
          ],
          "name": "stdout"
        }
      ]
    },
    {
      "cell_type": "code",
      "metadata": {
        "id": "mmtbeDevtsBQ",
        "colab_type": "code",
        "colab": {}
      },
      "source": [
        "sess = Session()"
      ],
      "execution_count": 0,
      "outputs": []
    },
    {
      "cell_type": "code",
      "metadata": {
        "id": "j7e-_m9uttdz",
        "colab_type": "code",
        "outputId": "21965cd5-f87a-4952-ee7c-fad27789ed44",
        "colab": {
          "base_uri": "https://localhost:8080/",
          "height": 35
        }
      },
      "source": [
        "sess.run(operation=a,feed_dict={x:[8,10]})"
      ],
      "execution_count": 249,
      "outputs": [
        {
          "output_type": "execute_result",
          "data": {
            "text/plain": [
              "0.999997739675702"
            ]
          },
          "metadata": {
            "tags": []
          },
          "execution_count": 249
        }
      ]
    },
    {
      "cell_type": "code",
      "metadata": {
        "id": "15SVS2yXtzia",
        "colab_type": "code",
        "outputId": "d1cb39c6-62b7-498b-a83a-7e79eb1421ff",
        "colab": {
          "base_uri": "https://localhost:8080/",
          "height": 35
        }
      },
      "source": [
        "sess.run(operation=a,feed_dict={x:[2,-10]})"
      ],
      "execution_count": 250,
      "outputs": [
        {
          "output_type": "execute_result",
          "data": {
            "text/plain": [
              "2.2603242979035746e-06"
            ]
          },
          "metadata": {
            "tags": []
          },
          "execution_count": 250
        }
      ]
    },
    {
      "cell_type": "markdown",
      "metadata": {
        "id": "PyOXjysdx7Yj",
        "colab_type": "text"
      },
      "source": [
        "## Conclusion\n",
        "\n",
        "> Our tensors live in a list, so the operation time would be much larger in comparison to Tensorflow's hashmap. All in all, we can now understand the threading behind the scenes of tf!"
      ]
    }
  ]
}
